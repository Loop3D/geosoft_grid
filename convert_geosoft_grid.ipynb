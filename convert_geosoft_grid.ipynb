{
 "cells": [
  {
   "cell_type": "markdown",
   "id": "08d6dc2a",
   "metadata": {},
   "source": [
    "## Code to convert geosoft grids to geotiffs based on info at:\n",
    "\n",
    "https://help.seequent.com/Oasis-montaj/9.9/en/Content/ss/process_data/grid_data/c/geosoft_grid_file_format.htm plus info that compression is in fact zlib not LZRW1 regardless of what COMP_TYPE says!\n",
    "\n",
    "Doesn't handle everything yet:      \n",
    "- Should check data type in ES & SF and handle data types accordingly\n",
    "- Could write tif->grd as well?\n",
    "- Could parse XML if present for CRS info\n",
    "- Could parse .gi file for CRS and other info if I had format...\n",
    "   \n",
    "Test data from CPRM Open Access geophysical data server https://geosgb.cprm.gov.br/geosgb/downloads.html"
   ]
  },
  {
   "cell_type": "markdown",
   "id": "70edd07f",
   "metadata": {},
   "source": [
    "## Parse geosoft grid"
   ]
  },
  {
   "cell_type": "code",
   "execution_count": null,
   "id": "93d1621a",
   "metadata": {
    "scrolled": true
   },
   "outputs": [],
   "source": [
    "import struct\n",
    "import numpy as np\n",
    "import zlib\n",
    "import os\n",
    "\n",
    "def parse_geosoft_grid(file_path,epsg):\n",
    "#read geosoft binary grid and return components\n",
    "#inputs:\n",
    "    #file_path: path to geosoft grid (str)\n",
    "    #epsg: EPSG projection ID (int)\n",
    "#returns:\n",
    "    #header: header data (dict)\n",
    "    #grid: grid data (2D array of float32)\n",
    "    \n",
    "    \n",
    "    #header data sizes\n",
    "    lengths=np.array([ 4,   4,  4,  4,  4,  8,  8,  8,  8,  8,  8,  8,  48, 16, \n",
    "                       4,  4,  4,  4,  4,  4,  4,  4,  4,  8,  4,  \n",
    "                       324,4,  4,  4,  4]) \n",
    "    #header data types\n",
    "    formats=np.array(['i','i','i','i','i','d','d','d','d','d','d','d','s','s',\n",
    "                      'i','i','i','i','i','f','f','f','f','d','i',\n",
    "                      's','s','i','i','i'])\n",
    "    #header variable names\n",
    "    labels=np.array(['ES','SF','NE','NV','KX','DE','DV','X0','Y0','ROT','ZBASE','ZMULT','LABEL','MAPNO',\n",
    "                     'PROJ','UNITX','UNITY','UNITZ','NVPTS','IZMIN','IZMAX','IZMED','IZMEA','ZVAR','PRCS',\n",
    "                     'USER','SIG','COMP_TYPE','NB','VPB'])\n",
    "    #load header\n",
    "    file=open(file_path,'rb')\n",
    "    header={}\n",
    "    for i in range(len(lengths)-4): #last 4 header items only if compressed\n",
    "        \n",
    "        val=file.read(lengths[i])\n",
    "        \n",
    "        if(formats[i]=='s'):\n",
    "            (val_conv,)=struct.unpack(str(lengths[i])+formats[i],val)\n",
    "        else:\n",
    "            (val_conv,)=struct.unpack(formats[i],val)\n",
    "        header[labels[i]]=val_conv\n",
    "    \n",
    "    #load grid\n",
    "    if(header['ES']>8): #compressed grid\n",
    "\n",
    "        #load compressed file extra header\n",
    "        for j in range(i+1,i+5):\n",
    "\n",
    "            val=file.read(lengths[j])\n",
    "\n",
    "            if(formats[j]=='s'):\n",
    "                (val_conv,)=struct.unpack(str(lengths[j])+formats[j],val)\n",
    "            else:\n",
    "                (val_conv,)=struct.unpack(formats[j],val)\n",
    "            header[labels[j]]=val_conv\n",
    "        OBS=struct.unpack(str(header['NB'])+'q',file.read(8*header['NB'])) # File offset from start of every block\n",
    "        CBS=struct.unpack(str(header['NB'])+'i',file.read(4*header['NB'])) # Compressed size of every block\n",
    "        \n",
    "        file=open(file_path,'rb')\n",
    "        bgrid=b''\n",
    "        for i in range(header['NB']):\n",
    "            file.seek(OBS[i]+16,0)    #unexplained 16 byte header\n",
    "            data=file.read(CBS[i]-16) #unexplained 16 byte header\n",
    "\n",
    "            result=zlib.decompress(data, bufsize=zlib.DEF_BUF_SIZE)\n",
    "            bgrid=bgrid+result\n",
    "            \n",
    "        grid=np.frombuffer( bgrid, np.float32 )\n",
    "        grid=np.where(grid < -1e8, -1e8, grid)\n",
    "        grid=grid.reshape((header['NV'],header['NE']))\n",
    "        \n",
    "    else: #uncompressed grid (zlib compression with 16 byte header ignored) \n",
    "\n",
    "        grid=np.fromfile(file_path, dtype=np.float32, offset=512) #should check data type in ES & SF and handle\n",
    "        grid=np.where(grid < -1e8, -1e8, grid)\n",
    "        grid=grid.reshape((header['NV'],header['NE']))\n",
    "\n",
    "    header['PROJ']=epsg # could read from xml if present, info is stored in wellknown_epsg\n",
    "    \n",
    "    \n",
    "    return(header,grid)\n",
    "    \n"
   ]
  },
  {
   "cell_type": "markdown",
   "id": "a52f94c2",
   "metadata": {},
   "source": [
    "## Save out grid as geotiff"
   ]
  },
  {
   "cell_type": "code",
   "execution_count": null,
   "id": "c0fdb744",
   "metadata": {
    "scrolled": true
   },
   "outputs": [],
   "source": [
    "import rasterio\n",
    "from rasterio.transform import from_origin\n",
    "\n",
    "def write_geotiff(out_path,header,grid):\n",
    "    \n",
    "    transform = from_origin(header['X0']-(header['DE']/2), header['Y0']-(header['DV']/2), header['DE'], -header['DV'])\n",
    "\n",
    "    new_dataset = rasterio.open(\n",
    "        out_path,\n",
    "        \"w\",\n",
    "        driver=\"GTiff\",\n",
    "        height=header['NV'],\n",
    "        width=header['NE'],\n",
    "        count=1,\n",
    "        dtype=rasterio.float32,\n",
    "        crs='epsg:'+str(header['PROJ']),#\"+proj=longlat\",\n",
    "        transform=transform,\n",
    "        nodata=-1e8,\n",
    "    )\n",
    "\n",
    "    new_dataset.write(grid, 1)\n",
    "    new_dataset.close()\n",
    "    print(\"dtm geotif saved as\", out_path)\n",
    "\n",
    "\n",
    "def convert_geosoft_grid_to_tif(filename,in_path,out_path,epsg):\n",
    "    header,grid=parse_geosoft_grid(os.path.join(in_path, filename),epsg)\n",
    "    filename=filename.replace('.grd','.tif')\n",
    "    if(!os.path.isdir(out_path)):\n",
    "        os.mkdir(out_path) \n",
    "    write_geotiff(os.path.join(out_path, filename),header,grid) \n"
   ]
  },
  {
   "cell_type": "code",
   "execution_count": null,
   "id": "db14b4da",
   "metadata": {
    "scrolled": false
   },
   "outputs": [],
   "source": [
    "in_path='./test_data'              \n",
    "out_path='./output_data'\n",
    "\n",
    "filename='test_uncompressed.grd' # uncompressed example\n",
    "#filename='test_compressed.grd'   # compressed example\n",
    "\n",
    "convert_geosoft_grid_to_tif(filename,in_path,out_path,4326)"
   ]
  },
  {
   "cell_type": "code",
   "execution_count": null,
   "id": "d59ed958",
   "metadata": {},
   "outputs": [],
   "source": []
  },
  {
   "cell_type": "code",
   "execution_count": null,
   "id": "1ba9e4fc",
   "metadata": {},
   "outputs": [],
   "source": []
  }
 ],
 "metadata": {
  "kernelspec": {
   "display_name": "Python 3 (ipykernel)",
   "language": "python",
   "name": "python3"
  },
  "language_info": {
   "codemirror_mode": {
    "name": "ipython",
    "version": 3
   },
   "file_extension": ".py",
   "mimetype": "text/x-python",
   "name": "python",
   "nbconvert_exporter": "python",
   "pygments_lexer": "ipython3",
   "version": "3.9.13"
  },
  "varInspector": {
   "cols": {
    "lenName": 16,
    "lenType": 16,
    "lenVar": 40
   },
   "kernels_config": {
    "python": {
     "delete_cmd_postfix": "",
     "delete_cmd_prefix": "del ",
     "library": "var_list.py",
     "varRefreshCmd": "print(var_dic_list())"
    },
    "r": {
     "delete_cmd_postfix": ") ",
     "delete_cmd_prefix": "rm(",
     "library": "var_list.r",
     "varRefreshCmd": "cat(var_dic_list()) "
    }
   },
   "types_to_exclude": [
    "module",
    "function",
    "builtin_function_or_method",
    "instance",
    "_Feature"
   ],
   "window_display": false
  }
 },
 "nbformat": 4,
 "nbformat_minor": 5
}
